{
  "cells": [
    {
      "cell_type": "code",
      "execution_count": 1,
      "id": "bf711eff",
      "metadata": {
        "id": "bf711eff"
      },
      "outputs": [],
      "source": [
        "import pandas as pd\n",
        "import copy\n",
        "import seaborn as sns\n",
        "import matplotlib.pyplot as plt\n",
        "from sklearn.model_selection import train_test_split\n",
        "from sklearn.linear_model import ElasticNetCV\n",
        "from sklearn.metrics import f1_score\n",
        "from sklearn.preprocessing import RobustScaler, SplineTransformer\n",
        "import numpy as np"
      ]
    },
    {
      "cell_type": "code",
      "execution_count": 2,
      "id": "001dbcc4",
      "metadata": {
        "id": "001dbcc4",
        "outputId": "8577944e-a6ad-4530-92bf-d19154882647"
      },
      "outputs": [
        {
          "data": {
            "text/plain": [
              "(105555, 30)"
            ]
          },
          "execution_count": 2,
          "metadata": {},
          "output_type": "execute_result"
        }
      ],
      "source": [
        "snapshot_date = pd.to_datetime('2018-12-31')\n",
        "\n",
        "data_path = \"../data/Dataset/Motor vehicle insurance data.csv\"\n",
        "raw_data = pd.read_csv(data_path, delimiter=';')\n",
        "raw_data.shape"
      ]
    },
    {
      "cell_type": "code",
      "execution_count": 3,
      "id": "a554aeac",
      "metadata": {
        "id": "a554aeac",
        "outputId": "5fa9f8c9-f4b2-42c5-b3f2-c5395779a4f3"
      },
      "outputs": [
        {
          "data": {
            "text/html": [
              "<div>\n",
              "<style scoped>\n",
              "    .dataframe tbody tr th:only-of-type {\n",
              "        vertical-align: middle;\n",
              "    }\n",
              "\n",
              "    .dataframe tbody tr th {\n",
              "        vertical-align: top;\n",
              "    }\n",
              "\n",
              "    .dataframe thead th {\n",
              "        text-align: right;\n",
              "    }\n",
              "</style>\n",
              "<table border=\"1\" class=\"dataframe\">\n",
              "  <thead>\n",
              "    <tr style=\"text-align: right;\">\n",
              "      <th></th>\n",
              "      <th>ID</th>\n",
              "      <th>Date_start_contract</th>\n",
              "      <th>Date_last_renewal</th>\n",
              "      <th>Date_next_renewal</th>\n",
              "      <th>Date_birth</th>\n",
              "      <th>Date_driving_licence</th>\n",
              "      <th>Distribution_channel</th>\n",
              "      <th>Seniority</th>\n",
              "      <th>Policies_in_force</th>\n",
              "      <th>Max_policies</th>\n",
              "      <th>...</th>\n",
              "      <th>Area</th>\n",
              "      <th>Second_driver</th>\n",
              "      <th>Year_matriculation</th>\n",
              "      <th>Power</th>\n",
              "      <th>Cylinder_capacity</th>\n",
              "      <th>Value_vehicle</th>\n",
              "      <th>N_doors</th>\n",
              "      <th>Type_fuel</th>\n",
              "      <th>Length</th>\n",
              "      <th>Weight</th>\n",
              "    </tr>\n",
              "  </thead>\n",
              "  <tbody>\n",
              "    <tr>\n",
              "      <th>0</th>\n",
              "      <td>1</td>\n",
              "      <td>05/11/2015</td>\n",
              "      <td>05/11/2015</td>\n",
              "      <td>05/11/2016</td>\n",
              "      <td>15/04/1956</td>\n",
              "      <td>20/03/1976</td>\n",
              "      <td>0</td>\n",
              "      <td>4</td>\n",
              "      <td>1</td>\n",
              "      <td>2</td>\n",
              "      <td>...</td>\n",
              "      <td>0</td>\n",
              "      <td>0</td>\n",
              "      <td>2004</td>\n",
              "      <td>80</td>\n",
              "      <td>599</td>\n",
              "      <td>7068.0</td>\n",
              "      <td>0</td>\n",
              "      <td>P</td>\n",
              "      <td>NaN</td>\n",
              "      <td>190</td>\n",
              "    </tr>\n",
              "    <tr>\n",
              "      <th>1</th>\n",
              "      <td>1</td>\n",
              "      <td>05/11/2015</td>\n",
              "      <td>05/11/2016</td>\n",
              "      <td>05/11/2017</td>\n",
              "      <td>15/04/1956</td>\n",
              "      <td>20/03/1976</td>\n",
              "      <td>0</td>\n",
              "      <td>4</td>\n",
              "      <td>1</td>\n",
              "      <td>2</td>\n",
              "      <td>...</td>\n",
              "      <td>0</td>\n",
              "      <td>0</td>\n",
              "      <td>2004</td>\n",
              "      <td>80</td>\n",
              "      <td>599</td>\n",
              "      <td>7068.0</td>\n",
              "      <td>0</td>\n",
              "      <td>P</td>\n",
              "      <td>NaN</td>\n",
              "      <td>190</td>\n",
              "    </tr>\n",
              "    <tr>\n",
              "      <th>2</th>\n",
              "      <td>1</td>\n",
              "      <td>05/11/2015</td>\n",
              "      <td>05/11/2017</td>\n",
              "      <td>05/11/2018</td>\n",
              "      <td>15/04/1956</td>\n",
              "      <td>20/03/1976</td>\n",
              "      <td>0</td>\n",
              "      <td>4</td>\n",
              "      <td>2</td>\n",
              "      <td>2</td>\n",
              "      <td>...</td>\n",
              "      <td>0</td>\n",
              "      <td>0</td>\n",
              "      <td>2004</td>\n",
              "      <td>80</td>\n",
              "      <td>599</td>\n",
              "      <td>7068.0</td>\n",
              "      <td>0</td>\n",
              "      <td>P</td>\n",
              "      <td>NaN</td>\n",
              "      <td>190</td>\n",
              "    </tr>\n",
              "    <tr>\n",
              "      <th>3</th>\n",
              "      <td>1</td>\n",
              "      <td>05/11/2015</td>\n",
              "      <td>05/11/2018</td>\n",
              "      <td>05/11/2019</td>\n",
              "      <td>15/04/1956</td>\n",
              "      <td>20/03/1976</td>\n",
              "      <td>0</td>\n",
              "      <td>4</td>\n",
              "      <td>2</td>\n",
              "      <td>2</td>\n",
              "      <td>...</td>\n",
              "      <td>0</td>\n",
              "      <td>0</td>\n",
              "      <td>2004</td>\n",
              "      <td>80</td>\n",
              "      <td>599</td>\n",
              "      <td>7068.0</td>\n",
              "      <td>0</td>\n",
              "      <td>P</td>\n",
              "      <td>NaN</td>\n",
              "      <td>190</td>\n",
              "    </tr>\n",
              "    <tr>\n",
              "      <th>4</th>\n",
              "      <td>2</td>\n",
              "      <td>26/09/2017</td>\n",
              "      <td>26/09/2017</td>\n",
              "      <td>26/09/2018</td>\n",
              "      <td>15/04/1956</td>\n",
              "      <td>20/03/1976</td>\n",
              "      <td>0</td>\n",
              "      <td>4</td>\n",
              "      <td>2</td>\n",
              "      <td>2</td>\n",
              "      <td>...</td>\n",
              "      <td>0</td>\n",
              "      <td>0</td>\n",
              "      <td>2004</td>\n",
              "      <td>80</td>\n",
              "      <td>599</td>\n",
              "      <td>7068.0</td>\n",
              "      <td>0</td>\n",
              "      <td>P</td>\n",
              "      <td>NaN</td>\n",
              "      <td>190</td>\n",
              "    </tr>\n",
              "  </tbody>\n",
              "</table>\n",
              "<p>5 rows × 30 columns</p>\n",
              "</div>"
            ],
            "text/plain": [
              "   ID Date_start_contract Date_last_renewal Date_next_renewal  Date_birth  \\\n",
              "0   1          05/11/2015        05/11/2015        05/11/2016  15/04/1956   \n",
              "1   1          05/11/2015        05/11/2016        05/11/2017  15/04/1956   \n",
              "2   1          05/11/2015        05/11/2017        05/11/2018  15/04/1956   \n",
              "3   1          05/11/2015        05/11/2018        05/11/2019  15/04/1956   \n",
              "4   2          26/09/2017        26/09/2017        26/09/2018  15/04/1956   \n",
              "\n",
              "  Date_driving_licence  Distribution_channel  Seniority  Policies_in_force  \\\n",
              "0           20/03/1976                     0          4                  1   \n",
              "1           20/03/1976                     0          4                  1   \n",
              "2           20/03/1976                     0          4                  2   \n",
              "3           20/03/1976                     0          4                  2   \n",
              "4           20/03/1976                     0          4                  2   \n",
              "\n",
              "   Max_policies  ...  Area  Second_driver Year_matriculation  Power  \\\n",
              "0             2  ...     0              0               2004     80   \n",
              "1             2  ...     0              0               2004     80   \n",
              "2             2  ...     0              0               2004     80   \n",
              "3             2  ...     0              0               2004     80   \n",
              "4             2  ...     0              0               2004     80   \n",
              "\n",
              "   Cylinder_capacity  Value_vehicle  N_doors  Type_fuel  Length  Weight  \n",
              "0                599         7068.0        0          P     NaN     190  \n",
              "1                599         7068.0        0          P     NaN     190  \n",
              "2                599         7068.0        0          P     NaN     190  \n",
              "3                599         7068.0        0          P     NaN     190  \n",
              "4                599         7068.0        0          P     NaN     190  \n",
              "\n",
              "[5 rows x 30 columns]"
            ]
          },
          "execution_count": 3,
          "metadata": {},
          "output_type": "execute_result"
        }
      ],
      "source": [
        "raw_data.head()"
      ]
    },
    {
      "cell_type": "markdown",
      "id": "8237c784",
      "metadata": {},
      "source": [
        "# Analyze the data"
      ]
    },
    {
      "cell_type": "markdown",
      "id": "66fdafc3",
      "metadata": {},
      "source": [
        "## Drop the ID column"
      ]
    },
    {
      "cell_type": "code",
      "execution_count": 4,
      "id": "d9723353",
      "metadata": {},
      "outputs": [],
      "source": [
        "raw_data.drop('ID', axis=1, inplace=True)"
      ]
    },
    {
      "cell_type": "markdown",
      "id": "09326931",
      "metadata": {},
      "source": [
        "## Check Null values"
      ]
    },
    {
      "cell_type": "code",
      "execution_count": 5,
      "id": "0dcaf7f8",
      "metadata": {},
      "outputs": [
        {
          "data": {
            "text/plain": [
              "Date_start_contract         0\n",
              "Date_last_renewal           0\n",
              "Date_next_renewal           0\n",
              "Date_birth                  0\n",
              "Date_driving_licence        0\n",
              "Distribution_channel        0\n",
              "Seniority                   0\n",
              "Policies_in_force           0\n",
              "Max_policies                0\n",
              "Max_products                0\n",
              "Lapse                       0\n",
              "Date_lapse              70408\n",
              "Payment                     0\n",
              "Premium                     0\n",
              "Cost_claims_year            0\n",
              "N_claims_year               0\n",
              "N_claims_history            0\n",
              "R_Claims_history            0\n",
              "Type_risk                   0\n",
              "Area                        0\n",
              "Second_driver               0\n",
              "Year_matriculation          0\n",
              "Power                       0\n",
              "Cylinder_capacity           0\n",
              "Value_vehicle               0\n",
              "N_doors                     0\n",
              "Type_fuel                1764\n",
              "Length                  10329\n",
              "Weight                      0\n",
              "dtype: int64"
            ]
          },
          "execution_count": 5,
          "metadata": {},
          "output_type": "execute_result"
        }
      ],
      "source": [
        "raw_data.isnull().sum()"
      ]
    },
    {
      "cell_type": "markdown",
      "id": "bf725aa0",
      "metadata": {},
      "source": [
        "1. Date\\_lapse (70,408 missing)\n",
        "\n",
        "* What it means: No lapse has occurred. It’s not missing—it’s informative.\n",
        "* Action: Replace missing with a flag:\n",
        "  * Create new binary feature: has\\_lapsed = 0 if missing, 1 if not.\n",
        "  * May drop the actual Date\\_lapse column.\n",
        "\n",
        "2. Type\\_fuel (1,764 missing)\n",
        "\n",
        "* What it means: Fuel type was not registered or missing from source.\n",
        "* Action: insert a data from condition from other fatures or create classification model.\n",
        "  * Action 1: Fill with mode ('D' or 'P')\n",
        "  * Action 2: Fill the empty value from prediction model.\n",
        "\n",
        "3. Length (10,329 missing)\n",
        "\n",
        "* What it means: Vehicle length not available. This is a mechanical feature.\n",
        "* Action:\n",
        "  * If other vehicle dimensions (e.g. Power, Cylinder\\_capacity, Weight) are present, can impute using a regression model.\n",
        "  * If useless to predict, drop the column entirely.\n",
        "\n",
        "✅ What to do next\n",
        "\n",
        "* Engineer binary features like has\\_lapsed.\n",
        "* For Length, do an experiment: run two versions of the model (with/without it) and check if it helps.\n",
        "  * If it does, keep it and consider use a regression model to impute missing values.\n",
        "  * If not, drop it."
      ]
    },
    {
      "cell_type": "markdown",
      "id": "1180f830",
      "metadata": {},
      "source": [
        "# Transform the data"
      ]
    },
    {
      "cell_type": "code",
      "execution_count": 6,
      "id": "b783bd3a",
      "metadata": {},
      "outputs": [],
      "source": [
        "transform_data = copy.deepcopy(raw_data)"
      ]
    },
    {
      "cell_type": "markdown",
      "id": "eed06e99",
      "metadata": {},
      "source": [
        "🟨 Columns that Require Conversion\n",
        "\n",
        "1. Type\\_fuel → Categorical: 'P', 'D'\n",
        "   \n",
        "   Convert to integer:\n",
        "   * 'P' → 0\n",
        "   * 'D' → 1\n",
        "   * fill the null with prediction\n",
        "\n",
        "2. Date columns (must be transformed):\n",
        "\n",
        "   * Date\\_start\\_contract\n",
        "   * Date\\_last\\_renewal\n",
        "   * Date\\_birth\n",
        "   * Date\\_driving\\_licence\n",
        "\n",
        "These need to be converted to datetime objects and engineered into features:\n",
        "\n",
        "ex. New features:\n",
        "* licence\\_years = Date\\_start\\_contract − Date\\_driving\\_licence\n",
        "* lapse\\_flag = 1 if Date\\_lapse not null else 0\n",
        "\n",
        "Then can drop raw date columns."
      ]
    },
    {
      "cell_type": "markdown",
      "id": "da9fbb23",
      "metadata": {},
      "source": [
        "## Date related features"
      ]
    },
    {
      "cell_type": "code",
      "execution_count": 7,
      "id": "8e0114d3",
      "metadata": {},
      "outputs": [],
      "source": [
        "# Convert date strings to datetime objects\n",
        "date_cols = [\"Date_start_contract\", \"Date_last_renewal\", \"Date_birth\", \"Date_driving_licence\"]\n",
        "for col in date_cols:\n",
        "    transform_data[col] = pd.to_datetime(transform_data[col], format='%d/%m/%Y', errors='coerce')\n",
        "    null_count = transform_data[col].isnull().sum()\n",
        "    if null_count > 0:\n",
        "        print(f\"Column {col} has {null_count} null values after conversion to datetime.\")\n",
        "\n",
        "if not transform_data['Date_last_renewal'].max() <= snapshot_date:\n",
        "    raise ValueError(\"Data contains post-2018 dates - inconsistent with dataset description\")"
      ]
    },
    {
      "cell_type": "markdown",
      "id": "b85a8b34",
      "metadata": {},
      "source": [
        "## categorical\n",
        "Type\\_fuel → Categorical: 'P', 'D' to 0, 1\n",
        "\n",
        "left the empty values as it is, for now"
      ]
    },
    {
      "cell_type": "code",
      "execution_count": 8,
      "id": "fddd4ec4",
      "metadata": {},
      "outputs": [],
      "source": [
        "# Create a mapping dictionary\n",
        "fuel_type_map = {'P': 0, 'D': 1}\n",
        "\n",
        "# Replace values using map and fillna\n",
        "transform_data['Type_fuel'] = transform_data['Type_fuel'].map(fuel_type_map)"
      ]
    },
    {
      "cell_type": "markdown",
      "id": "be2675a7",
      "metadata": {},
      "source": [
        "# Temporal features engineering"
      ]
    },
    {
      "cell_type": "code",
      "execution_count": 9,
      "id": "5b148da9",
      "metadata": {},
      "outputs": [],
      "source": [
        "transform_data[\"policy_age\"] = (snapshot_date - transform_data[\"Date_start_contract\"]).dt.days\n",
        "transform_data['driving_experience'] = (snapshot_date - transform_data['Date_driving_licence']).dt.days\n",
        "transform_data['customer_age'] = ((snapshot_date - transform_data['Date_birth']).dt.days)/365.25\n",
        "transform_data['vehicle_age'] = snapshot_date.year - transform_data['Year_matriculation']"
      ]
    },
    {
      "cell_type": "markdown",
      "id": "a8ad7384",
      "metadata": {},
      "source": [
        "# Claim features engineering"
      ]
    },
    {
      "cell_type": "code",
      "execution_count": 10,
      "id": "6ee19ab5",
      "metadata": {},
      "outputs": [],
      "source": [
        "transform_data['claims_per_year'] = transform_data['N_claims_history'] / (transform_data['policy_age'] / 365.25 + 1e-6)\n",
        "transform_data['recent_claims_rate'] = transform_data['N_claims_history'] / (transform_data['policy_age'] / 365.25 + 1e-6)\n",
        "transform_data['avg_claim_cost'] = transform_data['Cost_claims_year'] / (transform_data['N_claims_year'] + 1e-6)\n",
        "transform_data['log_claim_cost'] = np.log1p(transform_data['Cost_claims_year'])\n",
        "transform_data['claim_frequency_increase'] = (transform_data['recent_claims_rate'] > transform_data['claims_per_year']).astype(int)"
      ]
    },
    {
      "cell_type": "markdown",
      "id": "a9a636b2",
      "metadata": {},
      "source": [
        "# Vehicle features engineering"
      ]
    },
    {
      "cell_type": "code",
      "execution_count": 11,
      "id": "7aab42f9",
      "metadata": {},
      "outputs": [],
      "source": [
        "transform_data['power_weight_ratio'] = transform_data['Power'] / transform_data['Weight']\n",
        "transform_data['premum_to_value'] = transform_data['Premium'] / transform_data['Value_vehicle']\n",
        "transform_data['value_per_kg'] = transform_data['Value_vehicle'] / transform_data['Weight']\n",
        "transform_data['vehicle_age'] = transform_data['Year_matriculation'].apply(lambda x: snapshot_date.year - x)\n",
        "transform_data['urban_high_risk'] = ((transform_data['Area'] == 1) & (transform_data['Type_risk'] == 1)).astype(int)\n",
        "transform_data['value_per_power'] = transform_data['Value_vehicle'] / (transform_data['Power'] + 1e-6)"
      ]
    },
    {
      "cell_type": "markdown",
      "id": "ba6696b9",
      "metadata": {},
      "source": [
        "# Fill the empty cells with the appropriate values"
      ]
    },
    {
      "cell_type": "markdown",
      "id": "5080b025",
      "metadata": {},
      "source": [
        "## Fuel type\n",
        "use simple prediction"
      ]
    },
    {
      "cell_type": "code",
      "execution_count": 12,
      "id": "9199fd4c",
      "metadata": {},
      "outputs": [],
      "source": [
        "transform_data.loc[(transform_data['Type_fuel'].isna()) & (transform_data['Type_risk'] == 1), 'Type_fuel'] = 0\n",
        "transform_data.loc[(transform_data['Type_fuel'].isna()) & (transform_data['Type_risk'] == 4), 'Type_fuel'] = 1\n",
        "if transform_data['Type_fuel'].isna().any():\n",
        "    transform_data['Type_fuel'].fillna(0, inplace=True)"
      ]
    },
    {
      "cell_type": "markdown",
      "id": "5cba7a71",
      "metadata": {},
      "source": [
        "## Length"
      ]
    },
    {
      "cell_type": "code",
      "execution_count": 13,
      "id": "dd784986",
      "metadata": {},
      "outputs": [],
      "source": [
        "features = ['power_weight_ratio', 'Power', 'Cylinder_capacity', 'Weight', 'Type_risk', 'N_doors', 'Type_fuel',]\n",
        "X = transform_data[~transform_data['Length'].isna()][features]\n",
        "y = transform_data[~transform_data['Length'].isna()]['Length']\n",
        "\n",
        "model = ElasticNetCV(cv=5, random_state=42, n_jobs=-1)\n",
        "model.fit(X, y)\n",
        "\n",
        "if model.score(X, y) < 0.5:\n",
        "    raise ValueError(\"Imputation model performance unacceptable\")\n",
        "else:\n",
        "    missing_mask = transform_data['Length'].isna()\n",
        "    transform_data.loc[missing_mask, 'Length'] = model.predict(transform_data[missing_mask][features])\n",
        "\n",
        "transform_data['Length'] = transform_data['Length'].round(3)"
      ]
    },
    {
      "cell_type": "markdown",
      "id": "895b89c9",
      "metadata": {},
      "source": [
        "ElasticNetCV cause use L1 and L2 regularization"
      ]
    },
    {
      "cell_type": "markdown",
      "id": "8e6eaed0",
      "metadata": {},
      "source": [
        "## Is lapse"
      ]
    },
    {
      "cell_type": "code",
      "execution_count": 14,
      "id": "ad24c1f2",
      "metadata": {},
      "outputs": [],
      "source": [
        "transform_data['in_lapse'] = transform_data['Date_lapse'].notna().astype(int)"
      ]
    },
    {
      "cell_type": "markdown",
      "id": "167b85d4",
      "metadata": {},
      "source": [
        "# Drop the unnecessary columns"
      ]
    },
    {
      "cell_type": "code",
      "execution_count": 15,
      "id": "00111112",
      "metadata": {},
      "outputs": [],
      "source": [
        "columns_to_drop = [\"Date_start_contract\", \"Date_last_renewal\", \"Date_birth\", \"Date_driving_licence\", 'Date_next_renewal', 'Date_lapse']\n",
        "transform_data.drop(columns=columns_to_drop, inplace=True)"
      ]
    },
    {
      "cell_type": "markdown",
      "id": "ee90d8e5",
      "metadata": {},
      "source": [
        "# Check Null values"
      ]
    },
    {
      "cell_type": "code",
      "execution_count": 16,
      "id": "f91302a6",
      "metadata": {},
      "outputs": [
        {
          "data": {
            "text/plain": [
              "Distribution_channel        0\n",
              "Seniority                   0\n",
              "Policies_in_force           0\n",
              "Max_policies                0\n",
              "Max_products                0\n",
              "Lapse                       0\n",
              "Payment                     0\n",
              "Premium                     0\n",
              "Cost_claims_year            0\n",
              "N_claims_year               0\n",
              "N_claims_history            0\n",
              "R_Claims_history            0\n",
              "Type_risk                   0\n",
              "Area                        0\n",
              "Second_driver               0\n",
              "Year_matriculation          0\n",
              "Power                       0\n",
              "Cylinder_capacity           0\n",
              "Value_vehicle               0\n",
              "N_doors                     0\n",
              "Type_fuel                   0\n",
              "Length                      0\n",
              "Weight                      0\n",
              "policy_age                  0\n",
              "driving_experience          0\n",
              "customer_age                0\n",
              "vehicle_age                 0\n",
              "claims_per_year             0\n",
              "recent_claims_rate          0\n",
              "avg_claim_cost              0\n",
              "log_claim_cost              0\n",
              "claim_frequency_increase    0\n",
              "power_weight_ratio          0\n",
              "premum_to_value             0\n",
              "value_per_kg                0\n",
              "urban_high_risk             0\n",
              "value_per_power             0\n",
              "in_lapse                    0\n",
              "dtype: int64"
            ]
          },
          "execution_count": 16,
          "metadata": {},
          "output_type": "execute_result"
        }
      ],
      "source": [
        "transform_data.isnull().sum()"
      ]
    },
    {
      "cell_type": "markdown",
      "id": "6259fa20",
      "metadata": {},
      "source": [
        "# Flag High-Correlation Features\n",
        "remove the weak features"
      ]
    },
    {
      "cell_type": "code",
      "execution_count": 17,
      "id": "bd3933fe",
      "metadata": {},
      "outputs": [
        {
          "name": "stdout",
          "output_type": "stream",
          "text": [
            "Kill these redundant features: ['Weight', 'customer_age', 'vehicle_age', 'recent_claims_rate', 'avg_claim_cost']\n"
          ]
        },
        {
          "data": {
            "text/plain": [
              "Distribution_channel        0\n",
              "Seniority                   0\n",
              "Policies_in_force           0\n",
              "Max_policies                0\n",
              "Max_products                0\n",
              "Lapse                       0\n",
              "Payment                     0\n",
              "Premium                     0\n",
              "Cost_claims_year            0\n",
              "N_claims_year               0\n",
              "N_claims_history            0\n",
              "R_Claims_history            0\n",
              "Type_risk                   0\n",
              "Area                        0\n",
              "Second_driver               0\n",
              "Year_matriculation          0\n",
              "Power                       0\n",
              "Cylinder_capacity           0\n",
              "Value_vehicle               0\n",
              "N_doors                     0\n",
              "Type_fuel                   0\n",
              "Length                      0\n",
              "policy_age                  0\n",
              "driving_experience          0\n",
              "claims_per_year             0\n",
              "log_claim_cost              0\n",
              "claim_frequency_increase    0\n",
              "power_weight_ratio          0\n",
              "premum_to_value             0\n",
              "value_per_kg                0\n",
              "urban_high_risk             0\n",
              "value_per_power             0\n",
              "in_lapse                    0\n",
              "dtype: int64"
            ]
          },
          "execution_count": 17,
          "metadata": {},
          "output_type": "execute_result"
        }
      ],
      "source": [
        "corr_matrix = transform_data.corr().abs()\n",
        "upper = corr_matrix.where(np.triu(np.ones(corr_matrix.shape), k=1).astype(bool))\n",
        "to_drop = [column for column in upper.columns if any(upper[column] > 0.85)]\n",
        "print(f\"Kill these redundant features: {to_drop}\")\n",
        "transform_data.drop(columns=to_drop, inplace=True)\n",
        "\n",
        "transform_data.isnull().sum()"
      ]
    },
    {
      "cell_type": "markdown",
      "id": "a6e568aa",
      "metadata": {},
      "source": [
        "try to make spline-transformed of vehicle age"
      ]
    },
    {
      "cell_type": "code",
      "execution_count": 18,
      "id": "d71e519c",
      "metadata": {},
      "outputs": [],
      "source": [
        "transform_data['vehicle_age'] = (snapshot_date.year - transform_data['Year_matriculation'].values.reshape(-1, 1))\n",
        "spline = SplineTransformer(n_knots=5, degree=2, include_bias=False)\n",
        "transform_data['vehicle_age'] = spline.fit_transform(transform_data['vehicle_age'].values.reshape(-1, 1))"
      ]
    },
    {
      "cell_type": "code",
      "execution_count": 19,
      "id": "d9e36bf6",
      "metadata": {},
      "outputs": [
        {
          "name": "stdout",
          "output_type": "stream",
          "text": [
            "Kill these redundant features: []\n"
          ]
        },
        {
          "data": {
            "text/plain": [
              "Distribution_channel        0\n",
              "Seniority                   0\n",
              "Policies_in_force           0\n",
              "Max_policies                0\n",
              "Max_products                0\n",
              "Lapse                       0\n",
              "Payment                     0\n",
              "Premium                     0\n",
              "Cost_claims_year            0\n",
              "N_claims_year               0\n",
              "N_claims_history            0\n",
              "R_Claims_history            0\n",
              "Type_risk                   0\n",
              "Area                        0\n",
              "Second_driver               0\n",
              "Year_matriculation          0\n",
              "Power                       0\n",
              "Cylinder_capacity           0\n",
              "Value_vehicle               0\n",
              "N_doors                     0\n",
              "Type_fuel                   0\n",
              "Length                      0\n",
              "policy_age                  0\n",
              "driving_experience          0\n",
              "claims_per_year             0\n",
              "log_claim_cost              0\n",
              "claim_frequency_increase    0\n",
              "power_weight_ratio          0\n",
              "premum_to_value             0\n",
              "value_per_kg                0\n",
              "urban_high_risk             0\n",
              "value_per_power             0\n",
              "in_lapse                    0\n",
              "vehicle_age                 0\n",
              "dtype: int64"
            ]
          },
          "execution_count": 19,
          "metadata": {},
          "output_type": "execute_result"
        }
      ],
      "source": [
        "numeric_data = transform_data.select_dtypes(include=['number'])\n",
        "\n",
        "corr_matrix = numeric_data.corr().abs()\n",
        "upper = corr_matrix.where(np.triu(np.ones(corr_matrix.shape), k=1).astype(bool))\n",
        "to_drop = [column for column in upper.columns if any(upper[column] > 0.85)]\n",
        "print(f\"Kill these redundant features: {to_drop}\")\n",
        "transform_data.drop(columns=to_drop, inplace=True)\n",
        "\n",
        "transform_data.isnull().sum()"
      ]
    },
    {
      "cell_type": "markdown",
      "id": "bbc58659",
      "metadata": {},
      "source": [
        "# Feature scaling\n",
        "remove outliers"
      ]
    },
    {
      "cell_type": "code",
      "execution_count": 20,
      "id": "88f84e80",
      "metadata": {},
      "outputs": [],
      "source": [
        "scaler = RobustScaler()\n",
        "\n",
        "numeric_features = ['Power', 'Cylinder_capacity', 'Value_vehicle', 'Premium', 'N_claims_year', 'N_claims_history', 'R_Claims_history', 'Cost_claims_year', 'power_weight_ratio', 'value_per_kg', 'value_per_power', 'policy_age', 'driving_experience']\n",
        "transform_data[numeric_features] = scaler.fit_transform(transform_data[numeric_features])"
      ]
    },
    {
      "cell_type": "markdown",
      "id": "2aea3166",
      "metadata": {},
      "source": [
        "# Target Engineering"
      ]
    },
    {
      "cell_type": "code",
      "execution_count": 21,
      "id": "9ca72664",
      "metadata": {},
      "outputs": [
        {
          "name": "stdout",
          "output_type": "stream",
          "text": [
            "count    1.055470e+05\n",
            "mean    -1.058874e+02\n",
            "std      6.513737e+04\n",
            "min     -1.871224e+07\n",
            "25%      0.000000e+00\n",
            "50%      9.238064e-02\n",
            "75%      4.274453e-01\n",
            "max      3.363061e+06\n",
            "Name: risk_score, dtype: float64\n"
          ]
        }
      ],
      "source": [
        "transform_data['risk_score'] = (\n",
        "    0.6 * (transform_data['Cost_claims_year'] / transform_data['Premium']) + \n",
        "    0.4 * transform_data['claims_per_year']\n",
        ")\n",
        "print(transform_data['risk_score'].describe())"
      ]
    },
    {
      "cell_type": "markdown",
      "id": "032370cb",
      "metadata": {},
      "source": []
    },
    {
      "cell_type": "markdown",
      "id": "149a6c05",
      "metadata": {},
      "source": []
    },
    {
      "cell_type": "markdown",
      "id": "dab8a16c",
      "metadata": {},
      "source": []
    },
    {
      "cell_type": "markdown",
      "id": "215266f5",
      "metadata": {},
      "source": []
    },
    {
      "cell_type": "markdown",
      "id": "8264976d",
      "metadata": {
        "id": "8264976d"
      },
      "source": [
        "# Visualization distribution"
      ]
    },
    {
      "cell_type": "code",
      "execution_count": 22,
      "id": "c1d41602",
      "metadata": {
        "id": "c1d41602"
      },
      "outputs": [],
      "source": [
        "def visualize_data(data):\n",
        "    \"\"\"\n",
        "    Visualizes the data by plotting the distribution of each numerical column.\n",
        "\n",
        "    Parameters:\n",
        "    data (DataFrame): The DataFrame containing the data to visualize.\n",
        "    \"\"\"\n",
        "    # Set up the figure size for better visibility\n",
        "    plt.figure(figsize=(20, 15))\n",
        "\n",
        "    # Get numerical columns (excluding date columns)\n",
        "    numerical_cols = data.select_dtypes(include=['int64', 'float64']).columns\n",
        "\n",
        "    # Create subplots for each numerical column\n",
        "    for i, col in enumerate(numerical_cols, 1):\n",
        "        plt.subplot(7, 7, i)\n",
        "        sns.histplot(data=data, x=col, kde=True)\n",
        "        plt.title(f'Distribution of {col}')\n",
        "        plt.xticks(rotation=45)\n",
        "    plt.tight_layout()\n",
        "    plt.show()"
      ]
    },
    {
      "cell_type": "code",
      "execution_count": 23,
      "id": "c12bccb9",
      "metadata": {
        "id": "c12bccb9",
        "outputId": "03f7923f-35c7-4f8a-be36-ed09bd25dc1f"
      },
      "outputs": [],
      "source": [
        "# visualize_data(raw_data)"
      ]
    },
    {
      "cell_type": "code",
      "execution_count": 24,
      "id": "f0a97f4c",
      "metadata": {
        "id": "f0a97f4c",
        "outputId": "22aa3b46-ab06-45ad-da3e-655fb6bbb7d1"
      },
      "outputs": [],
      "source": [
        "# visualize_data(transform_data)"
      ]
    }
  ],
  "metadata": {
    "colab": {
      "collapsed_sections": [
        "dd7cbb05",
        "0e5b1d99",
        "8a241fe0",
        "f9fcdb25",
        "b595c931",
        "dba1e73c"
      ],
      "provenance": []
    },
    "kernelspec": {
      "display_name": ".venv",
      "language": "python",
      "name": "python3"
    },
    "language_info": {
      "codemirror_mode": {
        "name": "ipython",
        "version": 3
      },
      "file_extension": ".py",
      "mimetype": "text/x-python",
      "name": "python",
      "nbconvert_exporter": "python",
      "pygments_lexer": "ipython3",
      "version": "3.12.3"
    }
  },
  "nbformat": 4,
  "nbformat_minor": 5
}
